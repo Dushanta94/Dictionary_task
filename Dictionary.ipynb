{
 "cells": [
  {
   "cell_type": "markdown",
   "id": "4d46a609-1396-4484-9bdb-979a3acdce07",
   "metadata": {},
   "source": [
    "# DICTIONARY"
   ]
  },
  {
   "cell_type": "markdown",
   "id": "773ffafc-9ea7-4632-951d-7172b9d9d43d",
   "metadata": {},
   "source": [
    "### A dictionary is a kind of data structure that stores items in key-value pairs. A key is a unique identifier for an item, and a value is the data associated with that key."
   ]
  },
  {
   "cell_type": "markdown",
   "id": "af2ba599-c8fc-41e6-a0fc-ec813282c253",
   "metadata": {},
   "source": [
    "## METHODS OF DICTIONARY"
   ]
  },
  {
   "cell_type": "markdown",
   "id": "acc20f92-0914-4ed8-bd87-5beb4d60046a",
   "metadata": {},
   "source": [
    "### Clear()"
   ]
  },
  {
   "cell_type": "markdown",
   "id": "bc549204-5b19-4622-8173-e233b39b799f",
   "metadata": {},
   "source": [
    "#### These methods Removes all elements from the dictionary."
   ]
  },
  {
   "cell_type": "code",
   "execution_count": 1,
   "id": "da6f2918-4dd1-4bd1-baa7-d182bb58404b",
   "metadata": {},
   "outputs": [
    {
     "data": {
      "text/plain": [
       "{'d1': 10, 'd2': 20, 'd3': 30}"
      ]
     },
     "execution_count": 1,
     "metadata": {},
     "output_type": "execute_result"
    }
   ],
   "source": [
    "dict1 = {'d1':10,'d2':20,'d3':30}\n",
    "dict1"
   ]
  },
  {
   "cell_type": "code",
   "execution_count": 3,
   "id": "c17d3a7e-c6e6-4394-9c32-fd76ac5fc7c6",
   "metadata": {},
   "outputs": [
    {
     "data": {
      "text/plain": [
       "{}"
      ]
     },
     "execution_count": 3,
     "metadata": {},
     "output_type": "execute_result"
    }
   ],
   "source": [
    "dict1.clear()\n",
    "dict1"
   ]
  },
  {
   "cell_type": "markdown",
   "id": "a96396b2-9c7e-4a82-93a1-c4d7ca327c23",
   "metadata": {},
   "source": [
    "### Copy()"
   ]
  },
  {
   "cell_type": "markdown",
   "id": "12ea0618-43f5-47bc-8a7d-b78d9c92059f",
   "metadata": {},
   "source": [
    "#### This methods Returns a shallow copy of the dictionary."
   ]
  },
  {
   "cell_type": "code",
   "execution_count": 4,
   "id": "3b358201-999f-4ad2-994d-174242bd41d6",
   "metadata": {},
   "outputs": [
    {
     "data": {
      "text/plain": [
       "{'d1': 10, 'd2': 20, 'd3': 30}"
      ]
     },
     "execution_count": 4,
     "metadata": {},
     "output_type": "execute_result"
    }
   ],
   "source": [
    "dict1 = {'d1':10,'d2':20,'d3':30}\n",
    "dict1"
   ]
  },
  {
   "cell_type": "code",
   "execution_count": 5,
   "id": "68fc6f75-b881-4619-8b9f-7bf0a16bcce5",
   "metadata": {},
   "outputs": [
    {
     "data": {
      "text/plain": [
       "{'d1': 10, 'd2': 20, 'd3': 30}"
      ]
     },
     "execution_count": 5,
     "metadata": {},
     "output_type": "execute_result"
    }
   ],
   "source": [
    "dict1.copy()\n",
    "dict1"
   ]
  },
  {
   "cell_type": "markdown",
   "id": "2377aba6-e075-46b1-b46e-1087c4248f03",
   "metadata": {},
   "source": [
    "### Fromkeys()"
   ]
  },
  {
   "cell_type": "markdown",
   "id": "83a16e7a-a1fa-49e9-8c93-bc0aabda2daf",
   "metadata": {},
   "source": [
    "#### This methods Creates a new dictionary with keys from seq and values set to value."
   ]
  },
  {
   "cell_type": "code",
   "execution_count": 6,
   "id": "3bdf05b3-b8e1-4c04-a9d2-93509b7109c1",
   "metadata": {},
   "outputs": [
    {
     "name": "stdout",
     "output_type": "stream",
     "text": [
      "{'d4': 40, 'd5': 40}\n"
     ]
    }
   ],
   "source": [
    "dict2 = ('d4','d5')\n",
    "dict3 = 40\n",
    "new_dict = dict.fromkeys(dict2,dict3)\n",
    "print(new_dict)"
   ]
  },
  {
   "cell_type": "markdown",
   "id": "1f014dfd-2f19-4d81-8767-41f78faf3224",
   "metadata": {},
   "source": [
    "### Get()"
   ]
  },
  {
   "cell_type": "markdown",
   "id": "8c68f693-8d59-484f-b9e7-a0fb7dcfbf0c",
   "metadata": {},
   "source": [
    "#### It Returns the value for key if key is in the dictionary; otherwise, it returns default."
   ]
  },
  {
   "cell_type": "code",
   "execution_count": 8,
   "id": "5cb9e600-bc8d-41eb-9ef5-16e6f3728c08",
   "metadata": {},
   "outputs": [
    {
     "data": {
      "text/plain": [
       "{'d1': 10, 'd2': 20, 'd3': 30}"
      ]
     },
     "execution_count": 8,
     "metadata": {},
     "output_type": "execute_result"
    }
   ],
   "source": [
    "dict1"
   ]
  },
  {
   "cell_type": "code",
   "execution_count": 16,
   "id": "8bd92683-10ce-4e00-a2dd-536584a7a9b7",
   "metadata": {},
   "outputs": [
    {
     "data": {
      "text/plain": [
       "20"
      ]
     },
     "execution_count": 16,
     "metadata": {},
     "output_type": "execute_result"
    }
   ],
   "source": [
    "dict1.get('d2')\n"
   ]
  },
  {
   "cell_type": "markdown",
   "id": "46fa090a-0952-4be0-b785-782749d29e41",
   "metadata": {},
   "source": [
    "### Items()"
   ]
  },
  {
   "cell_type": "markdown",
   "id": "434eb371-c064-4807-a261-df820ccc5ad4",
   "metadata": {},
   "source": [
    "#### This methods Returns a view object that displays a list of dictionary's key-value tuple pairs."
   ]
  },
  {
   "cell_type": "code",
   "execution_count": 17,
   "id": "ffbb041a-6e53-40d3-baae-b9bb7733b9f6",
   "metadata": {},
   "outputs": [
    {
     "data": {
      "text/plain": [
       "{'d1': 10, 'd2': 20, 'd3': 30}"
      ]
     },
     "execution_count": 17,
     "metadata": {},
     "output_type": "execute_result"
    }
   ],
   "source": [
    "dict1"
   ]
  },
  {
   "cell_type": "code",
   "execution_count": 18,
   "id": "3c66a798-cc67-453a-99b9-7eb1b88161d2",
   "metadata": {},
   "outputs": [
    {
     "data": {
      "text/plain": [
       "dict_items([('d1', 10), ('d2', 20), ('d3', 30)])"
      ]
     },
     "execution_count": 18,
     "metadata": {},
     "output_type": "execute_result"
    }
   ],
   "source": [
    "dict1.items()"
   ]
  },
  {
   "cell_type": "markdown",
   "id": "3dad8c77-58a0-4153-8b2e-50af7e3b59da",
   "metadata": {},
   "source": [
    "### Keys()"
   ]
  },
  {
   "cell_type": "markdown",
   "id": "d715e09d-7f1b-4416-bc29-cac530c4e1df",
   "metadata": {},
   "source": [
    "#### Returns a view object that displays a list of all the keys in the dictionary."
   ]
  },
  {
   "cell_type": "code",
   "execution_count": 19,
   "id": "51db6ad4-e84e-4617-bf5b-9e0538d4a204",
   "metadata": {},
   "outputs": [
    {
     "data": {
      "text/plain": [
       "{'d1': 10, 'd2': 20, 'd3': 30}"
      ]
     },
     "execution_count": 19,
     "metadata": {},
     "output_type": "execute_result"
    }
   ],
   "source": [
    "dict1"
   ]
  },
  {
   "cell_type": "code",
   "execution_count": 20,
   "id": "828b7ee6-ac0a-4a08-8835-17c9d7cb789e",
   "metadata": {},
   "outputs": [
    {
     "data": {
      "text/plain": [
       "dict_keys(['d1', 'd2', 'd3'])"
      ]
     },
     "execution_count": 20,
     "metadata": {},
     "output_type": "execute_result"
    }
   ],
   "source": [
    "dict1.keys()"
   ]
  },
  {
   "cell_type": "markdown",
   "id": "9965d3ff-ffbb-4409-86e5-c9fe8e99f3ff",
   "metadata": {},
   "source": [
    "### Pop()"
   ]
  },
  {
   "cell_type": "markdown",
   "id": "d3f744b8-44f2-42d0-87be-784dc00198c8",
   "metadata": {},
   "source": [
    "#### It Removes the specified key and returns the corresponding value. If the key is not found, default is returned if provided, otherwise KeyError is raised."
   ]
  },
  {
   "cell_type": "code",
   "execution_count": 30,
   "id": "fd85f495-f91c-4f71-a1ce-7bd5e35e106c",
   "metadata": {},
   "outputs": [
    {
     "data": {
      "text/plain": [
       "{'d4': 40, 'd5': 50, 'd6': 60}"
      ]
     },
     "execution_count": 30,
     "metadata": {},
     "output_type": "execute_result"
    }
   ],
   "source": [
    "dict2 = {'d4':40,'d5':50,'d6':60}\n",
    "dict2"
   ]
  },
  {
   "cell_type": "code",
   "execution_count": 31,
   "id": "3c2b2e50-5295-4b8d-9cf1-0a6aa374c567",
   "metadata": {},
   "outputs": [
    {
     "data": {
      "text/plain": [
       "{'d5': 50, 'd6': 60}"
      ]
     },
     "execution_count": 31,
     "metadata": {},
     "output_type": "execute_result"
    }
   ],
   "source": [
    "dict2.pop('d4')\n",
    "dict2\n"
   ]
  },
  {
   "cell_type": "markdown",
   "id": "ba4512bc-7b62-4ab8-b596-a4e2d92ab146",
   "metadata": {},
   "source": [
    "### Popitem()"
   ]
  },
  {
   "cell_type": "markdown",
   "id": "a9733bb2-8a87-4d39-afa3-97fe9b3ef357",
   "metadata": {},
   "source": [
    "#### It Removes and returns an arbitrary key-value pair from the dictionary. If the dictionary is empty, a KeyError is raised."
   ]
  },
  {
   "cell_type": "code",
   "execution_count": 33,
   "id": "4cdeacf9-cbcc-45c9-91c2-94aeb55b1798",
   "metadata": {},
   "outputs": [
    {
     "data": {
      "text/plain": [
       "{'s1': 50, 's2': 60, 's3': 70}"
      ]
     },
     "execution_count": 33,
     "metadata": {},
     "output_type": "execute_result"
    }
   ],
   "source": [
    "dict5 = {'s1':50,'s2':60,'s3':70}\n",
    "dict5"
   ]
  },
  {
   "cell_type": "code",
   "execution_count": 38,
   "id": "bafff420-e3a1-4218-ad03-2cbb228ee62f",
   "metadata": {},
   "outputs": [],
   "source": [
    "item = dict5.popitem()"
   ]
  },
  {
   "cell_type": "code",
   "execution_count": 39,
   "id": "72e0b5e7-1dab-4aa1-bc0d-88a6bf2310dd",
   "metadata": {},
   "outputs": [
    {
     "data": {
      "text/plain": [
       "('s2', 60)"
      ]
     },
     "execution_count": 39,
     "metadata": {},
     "output_type": "execute_result"
    }
   ],
   "source": [
    "item"
   ]
  },
  {
   "cell_type": "code",
   "execution_count": 40,
   "id": "aa4ab00e-2f14-4f39-9aec-598abbb3f8de",
   "metadata": {},
   "outputs": [
    {
     "data": {
      "text/plain": [
       "{'s1': 50}"
      ]
     },
     "execution_count": 40,
     "metadata": {},
     "output_type": "execute_result"
    }
   ],
   "source": [
    "dict5"
   ]
  },
  {
   "cell_type": "markdown",
   "id": "1c14b376-e753-48e1-8dd3-240d6b9f10b1",
   "metadata": {},
   "source": [
    "### Update()"
   ]
  },
  {
   "cell_type": "markdown",
   "id": "aee11472-9383-4470-9c4b-12997d0c08b6",
   "metadata": {},
   "source": [
    "#### It Updates the dictionary with elements from another dictionary object or from an iterable of key-value pairs."
   ]
  },
  {
   "cell_type": "code",
   "execution_count": 41,
   "id": "90308295-04e4-4a4e-9a48-734e8682fd41",
   "metadata": {},
   "outputs": [
    {
     "data": {
      "text/plain": [
       "{'s1': 50}"
      ]
     },
     "execution_count": 41,
     "metadata": {},
     "output_type": "execute_result"
    }
   ],
   "source": [
    "dict5"
   ]
  },
  {
   "cell_type": "code",
   "execution_count": 42,
   "id": "89749d73-a8fa-4322-8e69-706302311ce2",
   "metadata": {},
   "outputs": [],
   "source": [
    "dict5.update({'s2':60,'s3':70})"
   ]
  },
  {
   "cell_type": "code",
   "execution_count": 43,
   "id": "2e34e931-ae2e-4375-b0d8-e2a7e6ba30d7",
   "metadata": {},
   "outputs": [
    {
     "data": {
      "text/plain": [
       "{'s1': 50, 's2': 60, 's3': 70}"
      ]
     },
     "execution_count": 43,
     "metadata": {},
     "output_type": "execute_result"
    }
   ],
   "source": [
    "dict5"
   ]
  },
  {
   "cell_type": "markdown",
   "id": "fd3c4fc2-93fd-455a-9c6b-e72deccc8361",
   "metadata": {},
   "source": [
    "### Values()"
   ]
  },
  {
   "cell_type": "markdown",
   "id": "c2073f4d-0cf0-4270-9dbf-6ad703e89516",
   "metadata": {},
   "source": [
    "#### This method Returns a view object that displays a list of all the values in the dictionary."
   ]
  },
  {
   "cell_type": "code",
   "execution_count": 44,
   "id": "014001b7-9f62-46d6-9b7d-6b62feec66eb",
   "metadata": {},
   "outputs": [
    {
     "data": {
      "text/plain": [
       "{'s1': 50, 's2': 60, 's3': 70}"
      ]
     },
     "execution_count": 44,
     "metadata": {},
     "output_type": "execute_result"
    }
   ],
   "source": [
    "dict5"
   ]
  },
  {
   "cell_type": "code",
   "execution_count": 45,
   "id": "21cc7842-9e07-4b40-aaf8-bd4c67fea98c",
   "metadata": {},
   "outputs": [
    {
     "data": {
      "text/plain": [
       "dict_values([50, 60, 70])"
      ]
     },
     "execution_count": 45,
     "metadata": {},
     "output_type": "execute_result"
    }
   ],
   "source": [
    "dict5.values()"
   ]
  },
  {
   "cell_type": "markdown",
   "id": "d71d92a3-006a-42d9-bb76-a4f676565051",
   "metadata": {},
   "source": [
    "### Setdefault()"
   ]
  },
  {
   "cell_type": "markdown",
   "id": "fbccf8eb-1894-4814-beef-4b7e6abc4f7a",
   "metadata": {},
   "source": [
    "#### This method Returns the value of the specified key. If the key does not exist, insert the key with default value."
   ]
  },
  {
   "cell_type": "code",
   "execution_count": 46,
   "id": "d8ecc8b2-66b0-4bb9-975e-1271fe1ad69f",
   "metadata": {},
   "outputs": [
    {
     "data": {
      "text/plain": [
       "{'s1': 50, 's2': 60, 's3': 70}"
      ]
     },
     "execution_count": 46,
     "metadata": {},
     "output_type": "execute_result"
    }
   ],
   "source": [
    "dict5"
   ]
  },
  {
   "cell_type": "code",
   "execution_count": 48,
   "id": "86ada02a-d04e-431c-8a19-5a941c9ed62d",
   "metadata": {},
   "outputs": [],
   "source": [
    "value = dict5.setdefault('s4',80)"
   ]
  },
  {
   "cell_type": "code",
   "execution_count": 49,
   "id": "83bc37f4-adca-410d-9ecf-13d813ab45ed",
   "metadata": {},
   "outputs": [
    {
     "data": {
      "text/plain": [
       "80"
      ]
     },
     "execution_count": 49,
     "metadata": {},
     "output_type": "execute_result"
    }
   ],
   "source": [
    "value"
   ]
  },
  {
   "cell_type": "code",
   "execution_count": null,
   "id": "a7e559a0-dca1-4166-919c-c1ed55393d43",
   "metadata": {},
   "outputs": [],
   "source": []
  },
  {
   "cell_type": "code",
   "execution_count": 50,
   "id": "2f149cba-7fe4-4a3d-97cc-8c2c7d8966cf",
   "metadata": {},
   "outputs": [
    {
     "data": {
      "text/plain": [
       "{'s1': 50, 's2': 60, 's3': 70, 's4': 80}"
      ]
     },
     "execution_count": 50,
     "metadata": {},
     "output_type": "execute_result"
    }
   ],
   "source": [
    "dict5"
   ]
  },
  {
   "cell_type": "code",
   "execution_count": null,
   "id": "7a88170f-523c-4b6d-a75e-7211d2226e96",
   "metadata": {},
   "outputs": [],
   "source": []
  }
 ],
 "metadata": {
  "kernelspec": {
   "display_name": "Python 3 (ipykernel)",
   "language": "python",
   "name": "python3"
  },
  "language_info": {
   "codemirror_mode": {
    "name": "ipython",
    "version": 3
   },
   "file_extension": ".py",
   "mimetype": "text/x-python",
   "name": "python",
   "nbconvert_exporter": "python",
   "pygments_lexer": "ipython3",
   "version": "3.11.7"
  }
 },
 "nbformat": 4,
 "nbformat_minor": 5
}
